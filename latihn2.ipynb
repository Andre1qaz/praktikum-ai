{
 "cells": [
  {
   "cell_type": "code",
   "execution_count": 1,
   "id": "bd2c30e4",
   "metadata": {},
   "outputs": [
    {
     "name": "stdout",
     "output_type": "stream",
     "text": [
      "Halo, Alice! Selamat datang.\n"
     ]
    }
   ],
   "source": [
    "def sapa_pengguna(nama):\n",
    "    print(f\"Halo, {nama}! Selamat datang.\")\n",
    "\n",
    "sapa_pengguna(\"Alice\")\n",
    "\n"
   ]
  },
  {
   "cell_type": "code",
   "execution_count": 2,
   "id": "98e09f40",
   "metadata": {},
   "outputs": [
    {
     "name": "stdout",
     "output_type": "stream",
     "text": [
      "Volume balok adalah: 100\n"
     ]
    }
   ],
   "source": [
    "\n",
    "\n",
    "panjang = 10\n",
    "lebar = 5\n",
    "tinggi = 2\n",
    "volume = panjang * lebar * tinggi\n",
    "print(f\"Volume balok adalah: {volume}\")"
   ]
  }
 ],
 "metadata": {
  "kernelspec": {
   "display_name": "Python 3",
   "language": "python",
   "name": "python3"
  },
  "language_info": {
   "codemirror_mode": {
    "name": "ipython",
    "version": 3
   },
   "file_extension": ".py",
   "mimetype": "text/x-python",
   "name": "python",
   "nbconvert_exporter": "python",
   "pygments_lexer": "ipython3",
   "version": "3.13.5"
  }
 },
 "nbformat": 4,
 "nbformat_minor": 5
}
